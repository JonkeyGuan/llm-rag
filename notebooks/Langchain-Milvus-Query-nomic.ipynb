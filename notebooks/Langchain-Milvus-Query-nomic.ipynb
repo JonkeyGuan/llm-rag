{
    "cells": [
     {
      "cell_type": "markdown",
      "id": "165a3407",
      "metadata": {
       "tags": []
      },
      "source": [
       "## Querying a Milvus index - Nomic AI Embeddings\n",
       "\n",
       "Simple example on how to query content from a Milvus VectorStore. In this example, the embeddings are the fully open source ones released by NomicAI, [nomic-embed-text-v1](https://huggingface.co/nomic-ai/nomic-embed-text-v1).\n",
       "\n",
       "As described in [this blog post](https://blog.nomic.ai/posts/nomic-embed-text-v1), those embeddings feature a \"8192 context-length that outperforms OpenAI Ada-002 and text-embedding-3-small on both short and long context tasks\". In additions, they are:\n",
       "\n",
       "- Open source\n",
       "- Open data\n",
       "- Open training code\n",
       "- Fully reproducible and auditable\n",
       "\n",
       "Requirements:\n",
       "- A Milvus instance, either standalone or cluster."
      ]
     },
     {
      "cell_type": "markdown",
      "id": "48ac3132-6929-4477-9585-31761d7d9848",
      "metadata": {},
      "source": [
       "### Needed packages and imports"
      ]
     },
     {
      "cell_type": "code",
      "execution_count": 1,
      "id": "1ed97389-9c5b-46a8-bedf-f28bf7038a07",
      "metadata": {
       "tags": []
      },
      "outputs": [
       {
        "name": "stdout",
        "output_type": "stream",
        "text": [
         "\n",
         "\u001b[1m[\u001b[0m\u001b[34;49mnotice\u001b[0m\u001b[1;39;49m]\u001b[0m\u001b[39;49m A new release of pip available: \u001b[0m\u001b[31;49m22.2.2\u001b[0m\u001b[39;49m -> \u001b[0m\u001b[32;49m24.0\u001b[0m\n",
         "\u001b[1m[\u001b[0m\u001b[34;49mnotice\u001b[0m\u001b[1;39;49m]\u001b[0m\u001b[39;49m To update, run: \u001b[0m\u001b[32;49mpip install --upgrade pip\u001b[0m\n"
        ]
       }
      ],
      "source": [
       "!pip install -q einops==0.7.0 langchain==0.1.9 pymilvus==2.3.6 sentence-transformers==2.5.0"
      ]
     },
     {
      "cell_type": "code",
      "execution_count": 2,
      "id": "1c53e798",
      "metadata": {
       "tags": []
      },
      "outputs": [],
      "source": [
       "import os\n",
       "from langchain.embeddings.huggingface import HuggingFaceEmbeddings\n",
       "from langchain_community.vectorstores import Milvus"
      ]
     },
     {
      "cell_type": "markdown",
      "id": "f0b8ecae",
      "metadata": {
       "tags": []
      },
      "source": [
       "### Base parameters, the Milvus connection info"
      ]
     },
     {
      "cell_type": "code",
      "execution_count": 3,
      "id": "9376e567",
      "metadata": {
       "tags": []
      },
      "outputs": [],
      "source": [
       "MILVUS_HOST = \"vectordb-milvus.milvus.svc.cluster.local\"\n",
       "MILVUS_PORT = 19530\n",
       "MILVUS_USERNAME = os.getenv('MILVUS_USERNAME')\n",
       "MILVUS_PASSWORD = os.getenv('MILVUS_PASSWORD')\n",
       "MILVUS_COLLECTION = \"collection_nomicai_embeddings\""
      ]
     },
     {
      "cell_type": "markdown",
      "id": "56d51868",
      "metadata": {},
      "source": [
       "### Initialize the connection"
      ]
     },
     {
      "cell_type": "code",
      "execution_count": 4,
      "id": "bbb6a3e3-5ccd-441e-b80d-427555d9e9f6",
      "metadata": {
       "tags": []
      },
      "outputs": [
       {
        "name": "stderr",
        "output_type": "stream",
        "text": [
         "You try to use a model that was created with version 2.4.0.dev0, however, your version is 2.4.0. This might cause unexpected behavior or errors. In that case, try to update to the latest version.\n",
         "\n",
         "\n",
         "\n",
         "/opt/app-root/lib64/python3.9/site-packages/huggingface_hub/file_download.py:1132: FutureWarning: `resume_download` is deprecated and will be removed in version 1.0.0. Downloads always resume when possible. If you want to force a new download, use `force_download=True`.\n",
         "  warnings.warn(\n",
         "<All keys matched successfully>\n"
        ]
       }
      ],
      "source": [
       "# If you don't want to use a GPU, you can remove the 'device': 'cuda' argument\n",
       "model_kwargs = {'trust_remote_code': True, 'device': 'cuda'}\n",
       "embeddings = HuggingFaceEmbeddings(\n",
       "    model_name=\"nomic-ai/nomic-embed-text-v1\",\n",
       "    model_kwargs=model_kwargs,\n",
       "    show_progress=True\n",
       ")\n",
       "\n",
       "store = Milvus(\n",
       "    embedding_function=embeddings,\n",
       "    connection_args={\"host\": MILVUS_HOST, \"port\": MILVUS_PORT, \"user\": MILVUS_USERNAME, \"password\": MILVUS_PASSWORD},\n",
       "    collection_name=MILVUS_COLLECTION,\n",
       "    metadata_field=\"metadata\",\n",
       "    text_field=\"page_content\",\n",
       "    drop_old=False\n",
       "    )"
      ]
     },
     {
      "cell_type": "markdown",
      "id": "9856851c",
      "metadata": {},
      "source": [
       "### Make a query to the index to verify sources"
      ]
     },
     {
      "cell_type": "code",
      "execution_count": 5,
      "id": "9621e231-3541-40bc-85ef-8aa3b2ba2331",
      "metadata": {
       "tags": []
      },
      "outputs": [
       {
        "data": {
         "application/vnd.jupyter.widget-view+json": {
          "model_id": "f08fa1e93c8f44c3ac6277d7d413c22e",
          "version_major": 2,
          "version_minor": 0
         },
         "text/plain": [
          "Batches:   0%|          | 0/1 [00:00<?, ?it/s]"
         ]
        },
        "metadata": {},
        "output_type": "display_data"
       },
       {
        "name": "stdout",
        "output_type": "stream",
        "text": [
         "https://access.redhat.com/documentation/en-us/red_hat_openshift_ai_self-managed/2.9/html-single/getting_started_with_red_hat_openshift_ai_self-managed/index\n",
         "https://access.redhat.com/documentation/en-us/red_hat_openshift_ai_self-managed/2.9/html-single/openshift_ai_tutorial_-_fraud_detection_example/index\n",
         "https://access.redhat.com/documentation/en-us/red_hat_openshift_ai_self-managed/2.9/html-single/getting_started_with_red_hat_openshift_ai_self-managed/index\n",
         "https://access.redhat.com/documentation/en-us/red_hat_openshift_ai_self-managed/2.9/html-single/working_on_data_science_projects/index\n"
        ]
       }
      ],
      "source": [
       "query=\"How can I create a Data Science Project?\"\n",
       "results = store.similarity_search_with_score(query, k=4, return_metadata=True)\n",
       "for result in results:\n",
       "    print(result[0].metadata['source'])"
      ]
     },
     {
      "cell_type": "markdown",
      "id": "f1005e2c",
      "metadata": {},
      "source": [
       "### Work with a retriever"
      ]
     },
     {
      "cell_type": "code",
      "execution_count": 6,
      "id": "566f9347-a40a-4eeb-a690-e199b91947a3",
      "metadata": {
       "tags": []
      },
      "outputs": [],
      "source": [
       "retriever = store.as_retriever(search_type=\"similarity\", search_kwargs={\"k\": 4})"
      ]
     },
     {
      "cell_type": "code",
      "execution_count": 7,
      "id": "1c378fbd-395d-43af-8cca-268bc05d0f51",
      "metadata": {
       "tags": []
      },
      "outputs": [
       {
        "name": "stderr",
        "output_type": "stream",
        "text": [
         "/opt/app-root/lib64/python3.9/site-packages/langchain_core/_api/deprecation.py:119: LangChainDeprecationWarning: The method `BaseRetriever.get_relevant_documents` was deprecated in langchain-core 0.1.46 and will be removed in 0.3.0. Use invoke instead.\n",
         "  warn_deprecated(\n"
        ]
       },
       {
        "data": {
         "application/vnd.jupyter.widget-view+json": {
          "model_id": "ede131de5a5440ed876a543166e12a89",
          "version_major": 2,
          "version_minor": 0
         },
         "text/plain": [
          "Batches:   0%|          | 0/1 [00:00<?, ?it/s]"
         ]
        },
        "metadata": {},
        "output_type": "display_data"
       },
       {
        "data": {
         "text/plain": [
          "[Document(page_content='character.\\n5\\n. \\nEnter a \\ndescription\\n for your data science project.\\n6\\n. \\nClick \\nCreate\\n.\\nA project details page opens. From this page, you can create workbenches, add cluster storage\\nand data connections, import pipelines, and deploy models.\\nVerification\\nThe project that you created is displayed on the \\nData Science Projects\\n page.\\nCHAPTER 4. CREATING A DATA SCIENCE PROJECT\\n9', metadata={'source': 'https://access.redhat.com/documentation/en-us/red_hat_openshift_ai_self-managed/2.9/html-single/getting_started_with_red_hat_openshift_ai_self-managed/index', 'page': 12}),\n",
          " Document(page_content='Data Science Projects\\n. This page lists any existing projects that\\nyou have access to. From this page, you can select an existing project (if any) or create a new\\none.\\nCHAPTER 2. SETTING UP A PROJECT AND STORAGE\\n5', metadata={'source': 'https://access.redhat.com/documentation/en-us/red_hat_openshift_ai_self-managed/2.9/html-single/openshift_ai_tutorial_-_fraud_detection_example/index', 'page': 8}),\n",
          " Document(page_content='CHAPTER 4. CREATING A DATA SCIENCE PROJECT\\nTo start your data science work, create a data science project. Creating a project helps you organize your\\nwork in one place. You can also enhance your data science project by adding the following functionality:\\nWorkbenches\\nStorage for your project’s cluster\\nData connections\\nData science pipelines\\nModel servers\\nPrerequisites\\nYou have logged in to Red Hat OpenShift AI.\\nIf you are using specialized OpenShift AI groups, you are part of the user group or admin group\\n(for example, \\nrhoai-users\\n or \\nrhoai-admins\\n ) in OpenShift.\\nProcedure\\n1\\n. \\nFrom the OpenShift AI dashboard, click \\nData Science Projects\\n.\\nThe \\nData Science Projects\\n page opens.\\n2\\n. \\nClick \\nCreate data science project\\n.\\nThe \\nCreate a data science project\\n dialog opens.\\n3\\n. \\nEnter a \\nname\\n for your data science project.\\n4\\n. \\nOptional: Edit the \\nresource name\\n for your data science project. The resource name must\\nconsist of lowercase alphanumeric characters, \\n-\\n, and must start and end with an alphanumeric', metadata={'source': 'https://access.redhat.com/documentation/en-us/red_hat_openshift_ai_self-managed/2.9/html-single/getting_started_with_red_hat_openshift_ai_self-managed/index', 'page': 12}),\n",
          " Document(page_content=\"Data Science Projects\\n page. In addition, you cannot use features\\nexclusive to OpenShift AI, such as workbenches and model serving, with a standard\\nOpenShift project.\\nTo classify your OpenShift project as a data science project, and to make available\\nfeatures exclusive to OpenShift AI, you must add the label \\nopendatahub.io/dashboard:\\n \\n'true'\\n to the project namespace. After you add this label, your project is subsequently\\nshown on the \\nData Science Projects\\n page.\\n3.1. USING DATA SCIENCE PROJECTS\\n3.1.1. Creating a data science project\\nTo start your data science work, create a data science project. Creating a project helps you organize your\\nwork in one place. You can also enhance your data science project by adding the following functionality:\\nWorkbenches\\nStorage for your project’s cluster\\nData connections\\nData science pipelines\\nModel servers\\nPrerequisites\\nYou have logged in to Red Hat OpenShift AI.\\nIf you are using specialized OpenShift AI groups, you are part of the user group or admin group\", metadata={'source': 'https://access.redhat.com/documentation/en-us/red_hat_openshift_ai_self-managed/2.9/html-single/working_on_data_science_projects/index', 'page': 16})]"
         ]
        },
        "execution_count": 7,
        "metadata": {},
        "output_type": "execute_result"
       }
      ],
      "source": [
       "docs = retriever.get_relevant_documents(query)\n",
       "docs"
      ]
     },
     {
      "cell_type": "code",
      "execution_count": null,
      "id": "98f505ca-5e0c-47c0-b4aa-10f8fa27f07e",
      "metadata": {},
      "outputs": [],
      "source": []
     }
    ],
    "metadata": {
     "kernelspec": {
      "display_name": "Python 3.9",
      "language": "python",
      "name": "python3"
     },
     "language_info": {
      "codemirror_mode": {
       "name": "ipython",
       "version": 3
      },
      "file_extension": ".py",
      "mimetype": "text/x-python",
      "name": "python",
      "nbconvert_exporter": "python",
      "pygments_lexer": "ipython3",
      "version": "3.9.18"
     }
    },
    "nbformat": 4,
    "nbformat_minor": 5
   }
   